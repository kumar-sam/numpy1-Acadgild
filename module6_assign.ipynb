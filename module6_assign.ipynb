{
 "cells": [
  {
   "cell_type": "code",
   "execution_count": 34,
   "metadata": {},
   "outputs": [
    {
     "name": "stdout",
     "output_type": "stream",
     "text": [
      "Enter the value of N5\n",
      "[[[  1   1   1   1   1]\n",
      "  [ 16   8   4   2   1]\n",
      "  [ 81  27   9   3   1]\n",
      "  [625 125  25   5   1]]]\n"
     ]
    }
   ],
   "source": [
    "'''\n",
    "Assignment 6\n",
    "A simple program in python to implement a function so that the columns of the output matrix are powers of the input\n",
    "vector.\n",
    "'''\n",
    "import numpy as np    # importing numpy\n",
    "\n",
    "def funcmat(N,data):     # function description to find matrix from a given vector\n",
    "    print(np.dstack([x**(N-1-i) for i in range(N)]))    # np.dstack() function stacks the array column-wise\n",
    "\n",
    "N=int(input(\"Enter the value of N\"))    # taking value of n from user\n",
    "data=np.array([2,3,4,5])    # creating a vector with 4 elements\n",
    "funcmat(N,data)             # calling the function funcmat()"
   ]
  }
 ],
 "metadata": {
  "kernelspec": {
   "display_name": "Python 3",
   "language": "python",
   "name": "python3"
  },
  "language_info": {
   "codemirror_mode": {
    "name": "ipython",
    "version": 3
   },
   "file_extension": ".py",
   "mimetype": "text/x-python",
   "name": "python",
   "nbconvert_exporter": "python",
   "pygments_lexer": "ipython3",
   "version": "3.6.5"
  }
 },
 "nbformat": 4,
 "nbformat_minor": 2
}
